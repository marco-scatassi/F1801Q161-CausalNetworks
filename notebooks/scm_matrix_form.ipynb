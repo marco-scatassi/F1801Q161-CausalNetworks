{
  "cells": [
    {
      "cell_type": "code",
      "execution_count": null,
      "metadata": {
        "id": "pcQziDAjnHy1"
      },
      "outputs": [],
      "source": [
        "%%capture\n",
        "!apt install python3-dev graphviz libgraphviz-dev pkg-config\n",
        "!pip install numpy scipy pandas networkx pygraphviz matplotlib"
      ]
    },
    {
      "cell_type": "code",
      "execution_count": null,
      "metadata": {
        "id": "Hmmds67Pnntu"
      },
      "outputs": [],
      "source": [
        "import numpy as np\n",
        "import scipy as sp\n",
        "import pandas as pd\n",
        "import networkx as nx\n",
        "import matplotlib.pyplot as plt\n",
        "\n",
        "from scipy.optimize import minimize\n",
        "from networkx.drawing.nx_agraph import graphviz_layout\n",
        "from typing import List, Tuple"
      ]
    },
    {
      "cell_type": "markdown",
      "metadata": {
        "id": "BXulFPBOnL4b"
      },
      "source": [
        "# Structural Causal Models: Matrix Form"
      ]
    },
    {
      "cell_type": "markdown",
      "metadata": {
        "id": "9tu7YRALn3jU"
      },
      "source": [
        "By Alessio Zanga and Fabio Stella"
      ]
    },
    {
      "cell_type": "markdown",
      "metadata": {
        "id": "meCoU7Omn459"
      },
      "source": [
        "## Abstract"
      ]
    },
    {
      "cell_type": "markdown",
      "source": [
        "There are various types of Structural Causal Models (SCMs) with their associated functional form:"
      ],
      "metadata": {
        "id": "nLIRXjUJpGt_"
      }
    },
    {
      "cell_type": "markdown",
      "source": [
        "|          Type          |     ------------ Functional Form ------------     |\n",
        "|------------------------|---------------------------------------------------|\n",
        "| General SCM            | $X_i := f_{X_i}(Pa_{\\mathcal{G}}(X_i), N_{X_i})$  |\n",
        "| Additive Noise Model   | $X_i := f_{X_i}(Pa_{\\mathcal{G}}(X_i)) + N_{X_i}$ |\n",
        "| Linear Gaussian Model  | $X_i := \\sum_{X_j \\in Pa_{\\mathcal{G}}(X_i)} \\beta_{ij} X_j + N_{X_i}$ |"
      ],
      "metadata": {
        "id": "wKCPS78spPZu"
      }
    },
    {
      "cell_type": "markdown",
      "source": [
        "We are going to model a Linear Gaussain Model, or a **Linear Gaussian** SCM due to their simplicity and flexibility."
      ],
      "metadata": {
        "id": "okXxcIP7seqU"
      }
    },
    {
      "cell_type": "markdown",
      "metadata": {
        "id": "9mTIE2Z7n6nS"
      },
      "source": [
        "## Introduction"
      ]
    },
    {
      "cell_type": "markdown",
      "metadata": {
        "id": "Nvh9pI1xGmK7"
      },
      "source": [
        "### Systems of Linear Equations"
      ]
    },
    {
      "cell_type": "markdown",
      "metadata": {
        "id": "ivbeTpOCJaFz"
      },
      "source": [
        "Recall the definition of a system of linear equations:"
      ]
    },
    {
      "cell_type": "markdown",
      "metadata": {
        "id": "HnxiSRPvz7S6"
      },
      "source": [
        "$\\begin{cases}\n",
        "  a_{11} x_1 + a_{12} x_2 + \\dots + a_{1n} x_n = b_1 \\\\\n",
        "  a_{11} x_1 + a_{12} x_2 + \\dots + a_{1n} x_n = b_2 \\\\\n",
        "  \\vdots \\\\\n",
        "  a_{mn} x_1 + a_{mn} x_2 + \\dots + a_{mn} x_n = b_m \\\\\n",
        "\\end{cases}$"
      ]
    },
    {
      "cell_type": "markdown",
      "metadata": {
        "id": "A_d5DWjN2VJo"
      },
      "source": [
        "or more concisely as:"
      ]
    },
    {
      "cell_type": "markdown",
      "metadata": {
        "id": "kpU_4z_b2VXA"
      },
      "source": [
        "$x_1 \\begin{bmatrix}\n",
        "a_{11} \\\\\n",
        "a_{21} \\\\\n",
        "\\vdots \\\\\n",
        "a_{m1}\n",
        "\\end{bmatrix} +\n",
        "x_2 \\begin{bmatrix}\n",
        "a_{12} \\\\\n",
        "a_{22} \\\\\n",
        "\\vdots \\\\\n",
        "a_{m2}\n",
        "\\end{bmatrix} +\n",
        "\\dots +\n",
        "x_n \\begin{bmatrix}\n",
        "a_{1n} \\\\\n",
        "a_{2n} \\\\\n",
        "\\vdots \\\\\n",
        "a_{mn}\n",
        "\\end{bmatrix} =\n",
        "\\begin{bmatrix}\n",
        "b_{1} \\\\\n",
        "b_{2} \\\\\n",
        "\\vdots \\\\\n",
        "b_{m}\n",
        "\\end{bmatrix}$"
      ]
    },
    {
      "cell_type": "markdown",
      "metadata": {
        "id": "2THVje6tz27Z"
      },
      "source": [
        "which can be expressed in **matrix form** as:"
      ]
    },
    {
      "cell_type": "markdown",
      "metadata": {
        "id": "613VBjzUGPhg"
      },
      "source": [
        "$\\underset{(m \\times n)}{\\mathbf{A}} \\underset{(n \\times 1)}{\\mathbf{x}} = \\underset{(m \\times 1)}{\\mathbf{b}}$"
      ]
    },
    {
      "cell_type": "markdown",
      "metadata": {
        "id": "WYq1GCEKGPH6"
      },
      "source": [
        "where:\n",
        "\n",
        "* $\\mathbf{A}$ is the matrix of *coefficients*,\n",
        "* $\\mathbf{x}$ is a vector of *unknowns*,\n",
        "* $\\mathbf{b}$ is a vector of *constant terms*."
      ]
    },
    {
      "cell_type": "markdown",
      "metadata": {
        "id": "4zklaSRjHI9u"
      },
      "source": [
        "In case where there is a number of equations $m$ equals to the number of unknowns $n$, we have:"
      ]
    },
    {
      "cell_type": "markdown",
      "metadata": {
        "id": "JzllnVEJHAqC"
      },
      "source": [
        "$\\underset{({\\color{red} n} \\times n)}{\\mathbf{A}} \\underset{(n \\times 1)}{\\mathbf{x}} = \\underset{({\\color{red} n} \\times 1)}{\\mathbf{b}}$"
      ]
    },
    {
      "cell_type": "markdown",
      "metadata": {
        "id": "z_b7e9a7Hdno"
      },
      "source": [
        "hence, $\\mathbf{A}$ is a square matrix."
      ]
    },
    {
      "cell_type": "markdown",
      "metadata": {
        "id": "gyIrGwWmoBVv"
      },
      "source": [
        "### Defining an SCM with Matrix Form"
      ]
    },
    {
      "cell_type": "markdown",
      "metadata": {
        "id": "i1x5pOd1w9yz"
      },
      "source": [
        "We are going to leverage the the matrix form of a system of linear equations to derive the matrix form of a **Linear Gaussian** SCM $\\mathcal{M}$."
      ]
    },
    {
      "cell_type": "markdown",
      "metadata": {
        "id": "9gl8tol3xRts"
      },
      "source": [
        "Recall that an SCM $\\mathcal{M}$ is defined by a tuple $(\\mathbf{V}, \\mathbf{U}, \\mathbf{F})$, where:\n",
        "\n",
        "\n",
        "* $\\mathbf{V}$ is the set of endogenous variables,\n",
        "* $\\mathbf{U}$ is the set of exogenous variables,\n",
        "* $\\mathbf{F}$ is the set of structural equations."
      ]
    },
    {
      "cell_type": "markdown",
      "metadata": {
        "id": "SdwiWGaByCxZ"
      },
      "source": [
        "If $\\mathbf{F}$ contains only linear functions, we can express it as a **system of linear equantions**."
      ]
    },
    {
      "cell_type": "markdown",
      "metadata": {
        "id": "-KDuD3i9JCC5"
      },
      "source": [
        "During the modelling step, a first pitfall would be to map the variables in $\\mathbf{V} \\cup \\mathbf{U}$ directly to the unknowns $\\mathbf{x}$. This will result in a $\\mathbf{A}$ coefficient square matrix with shape $([n+m], [n+m])$, with $|\\mathbf{V}| = n$ and $|\\mathbf{U}| = m$."
      ]
    },
    {
      "cell_type": "markdown",
      "metadata": {
        "id": "9neeQRbp3o-R"
      },
      "source": [
        "Therefore, we map:\n",
        "\n",
        "* the set of endogenous variables $\\mathbf{V}$ to endogneous unknowns $\\mathbf{x}$ and,\n",
        "* the set of exogenous variables $\\mathbf{U}$ to exogenous unknowns $\\mathbf{y}$."
      ]
    },
    {
      "cell_type": "markdown",
      "metadata": {
        "id": "gARUzungMOyr"
      },
      "source": [
        "Hence, instead of defining the matrix form of SCM $\\mathcal{M}$ as:"
      ]
    },
    {
      "cell_type": "markdown",
      "metadata": {
        "id": "HEvv6OLfMZAs"
      },
      "source": [
        "$\\underset{([n + m] \\times [n + m])}{\\mathbf{A}} \\underset{([n + m] \\times 1)}{\\mathbf{x}} = \\underset{([n + m] \\times 1)}{\\mathbf{b}}$"
      ]
    },
    {
      "cell_type": "markdown",
      "metadata": {
        "id": "4Bw_ZBEYMZbk"
      },
      "source": [
        "We leverage the endogneous unknowns $\\mathbf{x}$, the exogenous unknowns $\\mathbf{y}$ and the inherited *additive noise model* as:"
      ]
    },
    {
      "cell_type": "markdown",
      "metadata": {
        "id": "0GzhRzQuMuyG"
      },
      "source": [
        "$\\underset{(n \\times n)}{\\vphantom{y}\\mathbf{A}}\n",
        " \\underset{(n \\times 1)}{\\vphantom{y}\\mathbf{x}} +\n",
        " {\\color{red}{\\underset{(n \\times m)}{\\vphantom{y}\\pmb{\\Gamma}}\n",
        " \\underset{(m \\times 1)}{\\mathbf{y}}}} =\n",
        " \\underset{({\\color{red} n} \\times 1)}{\\vphantom{y}\\mathbf{b}}$"
      ]
    },
    {
      "cell_type": "markdown",
      "metadata": {
        "id": "63gDYpj1XBtN"
      },
      "source": [
        "Please, notice how the shape of $\\mathbf{b}$ is only $(n \\times 1)$ and not $([n + m] \\times 1)$, since we cannot observe directly the actual value of the noise terms $\\mathbf{y}$, but only their effect on $\\mathbf{x}$, which is hidden behind the sum operation."
      ]
    },
    {
      "cell_type": "markdown",
      "metadata": {
        "id": "LM8VMczl8k3f"
      },
      "source": [
        "For example, the SCM $\\mathcal{M}$ with the following function set $\\mathbf{F}$:"
      ]
    },
    {
      "cell_type": "markdown",
      "metadata": {
        "id": "COmPQAvr-BAP"
      },
      "source": [
        "$\\begin{cases}\n",
        "  x_1 + 2x_2 + y_1 = b_1 \\\\\n",
        "  x_2 + 4x_3 + y_2 = b_2 \\\\\n",
        "  x_3 + 2y_2 \\, + y_3 = b_3\n",
        "\\end{cases}$"
      ]
    },
    {
      "cell_type": "markdown",
      "metadata": {
        "id": "Ig89tNFSVUKp"
      },
      "source": [
        "which is explicitly:"
      ]
    },
    {
      "cell_type": "markdown",
      "metadata": {
        "id": "E49efZQ2VTey"
      },
      "source": [
        "$\\begin{cases}\n",
        "  {\\color{red} 1}x_1 + 2x_2 \\,{\\color{red} {+ \\; 0x_3 + 1}}y_1 \\, {\\color{red} {+ \\; 0y_2 + 0y_3}} = b_1 \\\\\n",
        "  {\\color{red} {0x_1 + 1}}x_2 + 3x_3 \\, {\\color{red} {+ \\; 0y_1 + 1}}y_2 \\;{\\color{red} {+ \\, 0y_3}} = b_2 \\\\\n",
        "  {\\color{red} {0x_1 + 0x_2 + 1}}x_3 \\, {\\color{red} {+ \\; 0y_1}} + 2y_2 \\; {\\color{red} {+ \\, 1}}y_3 = b_3\n",
        "\\end{cases}$"
      ]
    },
    {
      "cell_type": "markdown",
      "metadata": {
        "id": "wXA-WXfA95eW"
      },
      "source": [
        "has the following matrix form:"
      ]
    },
    {
      "cell_type": "code",
      "execution_count": null,
      "metadata": {
        "id": "S03FcEle8oaj"
      },
      "outputs": [],
      "source": [
        "# Endogenous variables.\n",
        "x = [\"$x_1$\", \"$x_2$\", \"$x_3$\"]\n",
        "# Coefficient matrix for endogenous variables.\n",
        "A = np.array([\n",
        "    [1., 2., 0.],\n",
        "    [0., 1., 3.],\n",
        "    [0., 0., 1.],\n",
        "])\n",
        "# Exogenous variables.\n",
        "y = [\"$y_1$\", \"$y_2$\", \"$y_3$\"]\n",
        "# Coefficient matrix for exogenous variables.\n",
        "C = np.array([\n",
        "    [1., 0., 0.],\n",
        "    [0., 1., 0.],\n",
        "    [0., 2., 1.],\n",
        "])"
      ]
    },
    {
      "cell_type": "markdown",
      "metadata": {
        "id": "tzkTFpJQRpY0"
      },
      "source": [
        "As you might have noticed, the diagonal of $\\mathbf{A}$ is always $\\mathbf{1}$, thefore, to make it explicit and to differentiate it from the standard notation used in graphs, we rewrite both $\\mathbf{A}$ and also $\\mathbf{b}$:"
      ]
    },
    {
      "cell_type": "markdown",
      "metadata": {
        "id": "Cv25v1VASCj-"
      },
      "source": [
        "${\\color{red}{\n",
        "    \\underset{(n \\times n)}{\\vphantom{y}(\\mathbf{B} + \\mathbf{I})}\n",
        " }}\n",
        " \\underset{(n \\times 1)}{\\vphantom{y}\\mathbf{x}} +\n",
        " \\underset{(n \\times m)}{\\vphantom{y}\\pmb{\\Gamma}}\n",
        " \\underset{(m \\times 1)}{\\mathbf{y}} =\n",
        " {\\color{red}{\\underset{(n \\times 1)}{\\vphantom{y}\\pmb{\\varepsilon}}}}$"
      ]
    },
    {
      "cell_type": "markdown",
      "metadata": {
        "id": "1DiUYdpsSp0q"
      },
      "source": [
        "where $\\mathbf{I}$ is the identity matrix."
      ]
    },
    {
      "cell_type": "code",
      "execution_count": null,
      "metadata": {
        "id": "WQ8E77mFUv7X"
      },
      "outputs": [],
      "source": [
        "# Coefficient matrix for endogenous variables.\n",
        "B = np.array([\n",
        "    [0., 2., 0.],\n",
        "    [0., 0., 3.],\n",
        "    [0., 0., 0.],\n",
        "])\n",
        "# Identity matrix with same shape as endogenous coefficient matrix.\n",
        "I = np.eye(*B.shape)\n",
        "# Coefficient matrix for exogenous variables.\n",
        "C = np.array([\n",
        "    [1., 0., 0.],\n",
        "    [0., 1., 0.],\n",
        "    [0., 2., 1.],\n",
        "])"
      ]
    },
    {
      "cell_type": "markdown",
      "metadata": {
        "id": "A2HawAafoM1x"
      },
      "source": [
        "### Expliciting the underlying Causal Graph"
      ]
    },
    {
      "cell_type": "markdown",
      "metadata": {
        "id": "bGkHjUfIyVuF"
      },
      "source": [
        "Following the causal edge assumption, $\\mathbf{V}$ and $\\mathbf{U}$ are vertices of a causal graph $\\mathcal{G}$ induced by $\\mathbf{F}$ :"
      ]
    },
    {
      "cell_type": "markdown",
      "metadata": {
        "id": "67qwM_zeyyUE"
      },
      "source": [
        "$X_i := \\sum_{X_j \\in Pa_{\\mathcal{G}}(X_i)} \\beta_{ij} X_j + N_{X_i}, \\quad \\forall X_i \\in \\mathbf{V}$."
      ]
    },
    {
      "cell_type": "markdown",
      "metadata": {
        "id": "TZYiWsppZP25"
      },
      "source": [
        "A possible representation of directed graph $\\mathcal{G}$ is by means of a squared *binary* adjacency matrix $\\mathbf{A}$ :"
      ]
    },
    {
      "cell_type": "markdown",
      "source": [
        "$\\mathbf{A}[i, j] =\n",
        "a_{ij} =\n",
        "\\begin{cases}\n",
        "  1 & \\text{If } (X_i \\rightarrow X_j) \\in \\mathbf{E}, \\\\\n",
        "  0 & \\text{Otherwise.}\n",
        "\\end{cases}$"
      ],
      "metadata": {
        "id": "JviE-eaBJt9z"
      }
    },
    {
      "cell_type": "markdown",
      "metadata": {
        "id": "2tEsXNyIKjlK"
      },
      "source": [
        "We can laverage the assumptions on the noise terms to build the adjacency matrix $\\mathbf{A}$, specifically:\n",
        "\n",
        "1. An endogenous variable cannot be parent of an exogenous variable, i.e. $(V \\rightarrow U) \\notin \\mathbf{E}, \\, \\forall \\, (V, U) \\in \\mathbf{V} \\times \\mathbf{U}$,\n",
        "2. The exegenous variables are independent of each other, i.e. $(U_i \\rightarrow U_j) \\notin \\mathbf{E}, \\, \\forall \\, (U_i, U_j) \\in \\mathbf{U} \\times \\mathbf{U}$."
      ]
    },
    {
      "cell_type": "markdown",
      "source": [
        "Hence, the adjacency matrix $\\mathbf{A}$ is composed by:"
      ],
      "metadata": {
        "id": "zEHTNWnqq789"
      }
    },
    {
      "cell_type": "markdown",
      "metadata": {
        "id": "YgKU61MBQJHj"
      },
      "source": [
        "$\\mathbf{A} =\n",
        "\\left(\n",
        "\\left[\n",
        "\\begin{array}{c|c}\n",
        "  \\mathbf{B} & \\mathbf{0} \\\\ \\hline\n",
        "  \\pmb{\\Gamma}^T & \\mathbf{0} \\\\\n",
        "\\end{array}\n",
        "\\right] \\neq\n",
        "0\n",
        "\\right)$"
      ]
    },
    {
      "cell_type": "markdown",
      "metadata": {
        "id": "BfBTIkq4Y7o_"
      },
      "source": [
        "where $\\mathbf{A} \\neq 0$ maps the real valued matrix $\\mathbf{A}$ to a binary matrix."
      ]
    },
    {
      "cell_type": "markdown",
      "metadata": {
        "id": "Mun8IvmppYkj"
      },
      "source": [
        "For example:"
      ]
    },
    {
      "cell_type": "code",
      "execution_count": null,
      "metadata": {
        "colab": {
          "base_uri": "https://localhost:8080/"
        },
        "id": "fJUZkmg9pYkj",
        "outputId": "ba2770e9-81d8-4426-f48f-9ea23875af0c"
      },
      "outputs": [
        {
          "output_type": "stream",
          "name": "stdout",
          "text": [
            "[[False  True False False False False]\n",
            " [False False  True False False False]\n",
            " [False False False False False False]\n",
            " [ True False False False False False]\n",
            " [False  True  True False False False]\n",
            " [False False  True False False False]]\n"
          ]
        }
      ],
      "source": [
        "# Get the variables sizes.\n",
        "n = len(x)\n",
        "m = len(y)\n",
        "# Compute the adjacency matrix.\n",
        "W = np.vstack([B, C.T])\n",
        "W = np.hstack([W, np.zeros((n + m, m))])\n",
        "A = (W != 0)\n",
        "\n",
        "print(A)"
      ]
    },
    {
      "cell_type": "markdown",
      "metadata": {
        "id": "rlVBftyKpYkk"
      },
      "source": [
        "We can now build the causal graph $\\mathcal{G}$ given the adjacency matrix $\\mathbf{A}$ :"
      ]
    },
    {
      "cell_type": "code",
      "source": [
        "def graph_from_matrix(x: List[str], y: List[str], A: np.array) -> nx.DiGraph:\n",
        "    # Compute the directed graph given the adjacency matrix.\n",
        "    G = nx.from_numpy_matrix(A, create_using=nx.DiGraph)\n",
        "    # Set nodes labels.\n",
        "    G = nx.relabel_nodes(G, dict(zip(G.nodes, x + y)))\n",
        "    # Set exogenous and endogenous variables as attributes.\n",
        "    G.graph[\"V\"] = set(x)\n",
        "    G.graph[\"U\"] = set(y)\n",
        "\n",
        "    return G"
      ],
      "metadata": {
        "id": "mTAhneCQyZ75"
      },
      "execution_count": null,
      "outputs": []
    },
    {
      "cell_type": "markdown",
      "metadata": {
        "id": "REmD8Tk4pYki"
      },
      "source": [
        "Let's define a plot style:"
      ]
    },
    {
      "cell_type": "code",
      "execution_count": null,
      "metadata": {
        "tags": [],
        "id": "HLqJ9HN-pYki"
      },
      "outputs": [],
      "source": [
        "def draw(G):\n",
        "    plt.figure()\n",
        "    pos = graphviz_layout(G, prog = \"dot\")\n",
        "    for v in G.nodes():\n",
        "        nx.draw_networkx_nodes(\n",
        "            G,\n",
        "            pos = pos,\n",
        "            nodelist = [v],\n",
        "            node_color = \"white\",\n",
        "            edgecolors = \"black\" if v in G.graph[\"V\"] else \"gray\",\n",
        "            node_size = 500,\n",
        "            node_shape = \"o\",\n",
        "        )\n",
        "        nx.draw_networkx_labels(\n",
        "            G,\n",
        "            pos = pos,\n",
        "            font_size = 15,\n",
        "        )\n",
        "    for (u, v) in G.edges():\n",
        "        nx.draw_networkx_edges(\n",
        "            G,\n",
        "            pos = pos,\n",
        "            edgelist = [(u, v)],\n",
        "            edge_color = \"black\",\n",
        "            style = \"solid\" if u not in G.graph[\"U\"] else \"dashed\",\n",
        "            width = 1.0,\n",
        "        )\n",
        "    weights = nx.get_edge_attributes(G, \"weight\")\n",
        "    if type(list(weights.values())[0]) != bool:\n",
        "        nx.draw_networkx_edge_labels(\n",
        "            G,\n",
        "            pos = pos,\n",
        "            edge_labels = weights,\n",
        "            font_color = \"red\",\n",
        "            font_size = 13,\n",
        "        )"
      ]
    },
    {
      "cell_type": "code",
      "execution_count": null,
      "metadata": {
        "colab": {
          "base_uri": "https://localhost:8080/",
          "height": 248
        },
        "id": "G5XsywSapYkk",
        "outputId": "83d0a449-73f9-4c70-8217-085e26a396d7"
      },
      "outputs": [
        {
          "output_type": "display_data",
          "data": {
            "text/plain": [
              "<Figure size 432x288 with 1 Axes>"
            ],
            "image/png": "[encoded data removed]"
          },
          "metadata": {}
        }
      ],
      "source": [
        "# Build the causal graph from adjacency matrix.\n",
        "G = graph_from_matrix(x, y, A)\n",
        "# Plot the causal graph.\n",
        "draw(G)"
      ]
    },
    {
      "cell_type": "markdown",
      "source": [
        "If we want to make the coefficient explicit, we can build a **weighted** directed graph:"
      ],
      "metadata": {
        "id": "SQVkTgYnuzvX"
      }
    },
    {
      "cell_type": "code",
      "source": [
        "# Build the causal graph from adjacency matrix.\n",
        "G = graph_from_matrix(x, y, W)\n",
        "# Plot the causal graph.\n",
        "draw(G)"
      ],
      "metadata": {
        "colab": {
          "base_uri": "https://localhost:8080/",
          "height": 248
        },
        "id": "AfWNr2CEu7Ug",
        "outputId": "31d3f2ff-8457-43b6-80b8-523296a348d0"
      },
      "execution_count": null,
      "outputs": [
        {
          "output_type": "display_data",
          "data": {
            "text/plain": [
              "<Figure size 432x288 with 1 Axes>"
            ],
            "image/png": "[encoded data removed]"
          },
          "metadata": {}
        }
      ]
    },
    {
      "cell_type": "markdown",
      "metadata": {
        "id": "Kfuz2VIbpsC3"
      },
      "source": [
        "## Implementation"
      ]
    },
    {
      "cell_type": "markdown",
      "metadata": {
        "id": "bGnYfOx3oT7X"
      },
      "source": [
        "### Sampling from an SCM"
      ]
    },
    {
      "cell_type": "markdown",
      "metadata": {
        "id": "RmDYQ58UqUqV"
      },
      "source": [
        "Suppose we are given a SCM $\\mathcal{M}$. How do we sample a data set $\\mathbf{D}$ from $\\mathcal{M}$ ?"
      ]
    },
    {
      "cell_type": "markdown",
      "metadata": {
        "id": "aNYFQLFKw9M_"
      },
      "source": [
        "Since we are considering a linear Gaussian SCM $\\mathcal{M}$, sampling the data set $\\mathbf{B}$ from $\\mathcal{M}$ is equivalent to sampling from a **multivariate normal distribution** $\\mathcal{N}(0, \\pmb{\\Sigma})$, where the variables in $\\mathcal{N}$ are the endogenous variables $\\mathbf{V}$ of $\\mathcal{M}$ and $\\pmb{\\Sigma}$ is the covariance matrix."
      ]
    },
    {
      "cell_type": "markdown",
      "source": [
        "With these assumptions, the covariance matrix is defined as:"
      ],
      "metadata": {
        "id": "ClvAzPTtXIi2"
      }
    },
    {
      "cell_type": "markdown",
      "source": [
        "$\\pmb{\\Sigma} = (\\mathbf{I} - \\mathbf{B})^{-1}\n",
        "\\pmb{\\Psi}\n",
        "(\\mathbf{I} - \\mathbf{B})^{-1T}$"
      ],
      "metadata": {
        "id": "evg2WqmQQ8aW"
      }
    },
    {
      "cell_type": "markdown",
      "source": [
        "where $\\pmb{\\Psi} = \\pmb{\\Gamma} + \\pmb{\\Gamma}^T - \\mathbf{I}*\\pmb{\\Gamma}$, i.e. the symmetric of $\\pmb{\\Gamma}$."
      ],
      "metadata": {
        "id": "jl0u6A0tXOgc"
      }
    },
    {
      "cell_type": "markdown",
      "source": [
        "Hence, we can define a sampling procedure by leveraging $\\mathbf{B}$ and $\\pmb{\\Gamma}$:"
      ],
      "metadata": {
        "id": "M7gE8FbCXRz_"
      }
    },
    {
      "cell_type": "code",
      "source": [
        "def sample(M: Tuple, size: int = int(1e6), seed: int = 31) -> pd.DataFrame:\n",
        "    # Explicit matrix form.\n",
        "    (x, y, B, C) = M\n",
        "    # Allocate the identity matrix.\n",
        "    I = np.eye(*B.shape)\n",
        "    # Compute the scale.\n",
        "    IB = np.linalg.inv(I - B)\n",
        "    # Compute the actual noise distribution.\n",
        "    Psi = C + C.T - np.eye(*C.shape) * C\n",
        "    # Compute the actual data distribution.\n",
        "    Sigma = IB @ Psi @ IB.T\n",
        "    # Set the seed for reproducibility.\n",
        "    np.random.seed(seed)\n",
        "    # Sample from a multivariate normal distribution.\n",
        "    D = np.random.multivariate_normal([0] * B.shape[0], Sigma, size)\n",
        "    # Compute the data frame.\n",
        "    D = pd.DataFrame(data = D, columns = x)\n",
        "\n",
        "    return D"
      ],
      "metadata": {
        "id": "513szcW-5Yzo"
      },
      "execution_count": null,
      "outputs": []
    },
    {
      "cell_type": "markdown",
      "source": [
        "We can now sample from a model:"
      ],
      "metadata": {
        "id": "GtoTjFI9L-lZ"
      }
    },
    {
      "cell_type": "code",
      "source": [
        "# Specify the model.\n",
        "M = (x, y, B, C)\n",
        "# Sample the data.\n",
        "D = sample(M)\n",
        "# Compute the summary statistics.\n",
        "D.describe()"
      ],
      "metadata": {
        "colab": {
          "base_uri": "https://localhost:8080/",
          "height": 335
        },
        "id": "CHv788vSeIeM",
        "outputId": "cf511a67-c89d-4a7f-9d6d-b1ba3b5c0302"
      },
      "execution_count": null,
      "outputs": [
        {
          "output_type": "stream",
          "name": "stderr",
          "text": [
            "/usr/local/lib/python3.7/dist-packages/ipykernel_launcher.py:15: RuntimeWarning: covariance is not positive-semidefinite.\n",
            "  from ipykernel import kernelapp as app\n"
          ]
        },
        {
          "output_type": "execute_result",
          "data": {
            "text/plain": [
              "                $x_1$           $x_2$           $x_3$\n",
              "count  1000000.000000  1000000.000000  1000000.000000\n",
              "mean         0.009500        0.004184        0.001467\n",
              "std          9.430900        4.689909        1.120898\n",
              "min        -43.815576      -21.966539       -5.664769\n",
              "25%         -6.355846       -3.160213       -0.754233\n",
              "50%          0.003506        0.002797        0.000623\n",
              "75%          6.379702        3.170067        0.758427\n",
              "max         46.216736       22.477628        5.369341"
            ],
            "text/html": [
              "\n",
              "  <div id=\"df-cb523302-75f4-4860-9cbf-367e17e6d8fb\">\n",
              "    <div class=\"colab-df-container\">\n",
              "      <div>\n",
              "<style scoped>\n",
              "    .dataframe tbody tr th:only-of-type {\n",
              "        vertical-align: middle;\n",
              "    }\n",
              "\n",
              "    .dataframe tbody tr th {\n",
              "        vertical-align: top;\n",
              "    }\n",
              "\n",
              "    .dataframe thead th {\n",
              "        text-align: right;\n",
              "    }\n",
              "</style>\n",
              "<table border=\"1\" class=\"dataframe\">\n",
              "  <thead>\n",
              "    <tr style=\"text-align: right;\">\n",
              "      <th></th>\n",
              "      <th>$x_1$</th>\n",
              "      <th>$x_2$</th>\n",
              "      <th>$x_3$</th>\n",
              "    </tr>\n",
              "  </thead>\n",
              "  <tbody>\n",
              "    <tr>\n",
              "      <th>count</th>\n",
              "      <td>1000000.000000</td>\n",
              "      <td>1000000.000000</td>\n",
              "      <td>1000000.000000</td>\n",
              "    </tr>\n",
              "    <tr>\n",
              "      <th>mean</th>\n",
              "      <td>0.009500</td>\n",
              "      <td>0.004184</td>\n",
              "      <td>0.001467</td>\n",
              "    </tr>\n",
              "    <tr>\n",
              "      <th>std</th>\n",
              "      <td>9.430900</td>\n",
              "      <td>4.689909</td>\n",
              "      <td>1.120898</td>\n",
              "    </tr>\n",
              "    <tr>\n",
              "      <th>min</th>\n",
              "      <td>-43.815576</td>\n",
              "      <td>-21.966539</td>\n",
              "      <td>-5.664769</td>\n",
              "    </tr>\n",
              "    <tr>\n",
              "      <th>25%</th>\n",
              "      <td>-6.355846</td>\n",
              "      <td>-3.160213</td>\n",
              "      <td>-0.754233</td>\n",
              "    </tr>\n",
              "    <tr>\n",
              "      <th>50%</th>\n",
              "      <td>0.003506</td>\n",
              "      <td>0.002797</td>\n",
              "      <td>0.000623</td>\n",
              "    </tr>\n",
              "    <tr>\n",
              "      <th>75%</th>\n",
              "      <td>6.379702</td>\n",
              "      <td>3.170067</td>\n",
              "      <td>0.758427</td>\n",
              "    </tr>\n",
              "    <tr>\n",
              "      <th>max</th>\n",
              "      <td>46.216736</td>\n",
              "      <td>22.477628</td>\n",
              "      <td>5.369341</td>\n",
              "    </tr>\n",
              "  </tbody>\n",
              "</table>\n",
              "</div>\n",
              "      <button class=\"colab-df-convert\" onclick=\"convertToInteractive('df-cb523302-75f4-4860-9cbf-367e17e6d8fb')\"\n",
              "              title=\"Convert this dataframe to an interactive table.\"\n",
              "              style=\"display:none;\">\n",
              "        \n",
              "  <svg xmlns=\"http://www.w3.org/2000/svg\" height=\"24px\"viewBox=\"0 0 24 24\"\n",
              "       width=\"24px\">\n",
              "    <path d=\"M0 0h24v24H0V0z\" fill=\"none\"/>\n",
              "    <path d=\"M18.56 5.44l.94 2.06.94-2.06 2.06-.94-2.06-.94-.94-2.06-.94 2.06-2.06.94zm-11 1L8.5 8.5l.94-2.06 2.06-.94-2.06-.94L8.5 2.5l-.94 2.06-2.06.94zm10 10l.94 2.06.94-2.06 2.06-.94-2.06-.94-.94-2.06-.94 2.06-2.06.94z\"/><path d=\"M17.41 7.96l-1.37-1.37c-.4-.4-.92-.59-1.43-.59-.52 0-1.04.2-1.43.59L10.3 9.45l-7.72 7.72c-.78.78-.78 2.05 0 2.83L4 21.41c.39.39.9.59 1.41.59.51 0 1.02-.2 1.41-.59l7.78-7.78 2.81-2.81c.8-.78.8-2.07 0-2.86zM5.41 20L4 18.59l7.72-7.72 1.47 1.35L5.41 20z\"/>\n",
              "  </svg>\n",
              "      </button>\n",
              "      \n",
              "  <style>\n",
              "    .colab-df-container {\n",
              "      display:flex;\n",
              "      flex-wrap:wrap;\n",
              "      gap: 12px;\n",
              "    }\n",
              "\n",
              "    .colab-df-convert {\n",
              "      background-color: #E8F0FE;\n",
              "      border: none;\n",
              "      border-radius: 50%;\n",
              "      cursor: pointer;\n",
              "      display: none;\n",
              "      fill: #1967D2;\n",
              "      height: 32px;\n",
              "      padding: 0 0 0 0;\n",
              "      width: 32px;\n",
              "    }\n",
              "\n",
              "    .colab-df-convert:hover {\n",
              "      background-color: #E2EBFA;\n",
              "      box-shadow: 0px 1px 2px rgba(60, 64, 67, 0.3), 0px 1px 3px 1px rgba(60, 64, 67, 0.15);\n",
              "      fill: #174EA6;\n",
              "    }\n",
              "\n",
              "    [theme=dark] .colab-df-convert {\n",
              "      background-color: #3B4455;\n",
              "      fill: #D2E3FC;\n",
              "    }\n",
              "\n",
              "    [theme=dark] .colab-df-convert:hover {\n",
              "      background-color: #434B5C;\n",
              "      box-shadow: 0px 1px 3px 1px rgba(0, 0, 0, 0.15);\n",
              "      filter: drop-shadow(0px 1px 2px rgba(0, 0, 0, 0.3));\n",
              "      fill: #FFFFFF;\n",
              "    }\n",
              "  </style>\n",
              "\n",
              "      <script>\n",
              "        const buttonEl =\n",
              "          document.querySelector('#df-cb523302-75f4-4860-9cbf-367e17e6d8fb button.colab-df-convert');\n",
              "        buttonEl.style.display =\n",
              "          google.colab.kernel.accessAllowed ? 'block' : 'none';\n",
              "\n",
              "        async function convertToInteractive(key) {\n",
              "          const element = document.querySelector('#df-cb523302-75f4-4860-9cbf-367e17e6d8fb');\n",
              "          const dataTable =\n",
              "            await google.colab.kernel.invokeFunction('convertToInteractive',\n",
              "                                                     [key], {});\n",
              "          if (!dataTable) return;\n",
              "\n",
              "          const docLinkHtml = 'Like what you see? Visit the ' +\n",
              "            '<a target=\"_blank\" href=https://colab.research.google.com/notebooks/data_table.ipynb>data table notebook</a>'\n",
              "            + ' to learn more about interactive tables.';\n",
              "          element.innerHTML = '';\n",
              "          dataTable['output_type'] = 'display_data';\n",
              "          await google.colab.output.renderOutput(dataTable, element);\n",
              "          const docLink = document.createElement('div');\n",
              "          docLink.innerHTML = docLinkHtml;\n",
              "          element.appendChild(docLink);\n",
              "        }\n",
              "      </script>\n",
              "    </div>\n",
              "  </div>\n",
              "  "
            ]
          },
          "metadata": {},
          "execution_count": 11
        }
      ]
    },
    {
      "cell_type": "markdown",
      "metadata": {
        "id": "u7_Y8ZcKpLvV"
      },
      "source": [
        "### Fitting an SCM"
      ]
    },
    {
      "cell_type": "markdown",
      "metadata": {
        "id": "TErfsx4ypzYY"
      },
      "source": [
        "Suppose we are given a data set $\\mathbf{D}$ and a causal graph $\\mathcal{G}$. How do we recover the associated SCM $\\mathcal{M}$ given $\\mathbf{D}$ and $\\mathcal{G}$ ?"
      ]
    },
    {
      "cell_type": "markdown",
      "metadata": {
        "id": "ClIuo9Htq_ar"
      },
      "source": [
        "Recall that the underlying system of SCM $\\mathcal{M}$ was:"
      ]
    },
    {
      "cell_type": "markdown",
      "metadata": {
        "id": "KxzJWQ5QIkUH"
      },
      "source": [
        "$\\begin{cases}\n",
        "  {\\color{red} 1}x_1 + 2x_2 \\,{\\color{red} {+ \\; 0x_3 + 1}}y_1 \\, {\\color{red} {+ \\; 0y_2 + 0y_3}} = b_1 \\\\\n",
        "  {\\color{red} {0x_1 + 1}}x_2 + 3x_3 \\, {\\color{red} {+ \\; 0y_1 + 1}}y_2 \\;{\\color{red} {+ \\, 0y_3}} = b_2 \\\\\n",
        "  {\\color{red} {0x_1 + 0x_2 + 1}}x_3 \\, {\\color{red} {+ \\; 0y_1}} + 2y_2 \\; {\\color{red} {+ \\, 1}}y_3 = b_3\n",
        "\\end{cases}$"
      ]
    },
    {
      "cell_type": "markdown",
      "source": [
        "Recovering the SCM $\\mathcal{M}$ would require to estimate the unknown parameters ${\\color{blue} {\\beta_{ij}}}$ and ${\\color{blue} {\\gamma_{ij}}}$ :"
      ],
      "metadata": {
        "id": "qDp8GQc2ItNM"
      }
    },
    {
      "cell_type": "markdown",
      "metadata": {
        "id": "uckaDZMBI6Rv"
      },
      "source": [
        "$\\begin{cases}\n",
        "  {\\color{blue} {\\beta_{11}}}x_1 + {\\color{blue} {\\beta_{12}}}x_2 + {\\color{blue} {\\beta_{13}}}x_3 + {\\color{blue} {\\gamma_{11}}}y_1 + {\\color{blue} {\\gamma_{12}}}y_2 + {\\color{blue} {\\gamma_{13}}}y_3 = \\varepsilon_1 \\\\\n",
        "  {\\color{blue} {\\beta_{21}}}x_1 + {\\color{blue} {\\beta_{22}}}x_2 + {\\color{blue} {\\beta_{23}}}x_3 + {\\color{blue} {\\gamma_{21}}}y_1 + {\\color{blue} {\\gamma_{22}}}y_2 + {\\color{blue} {\\gamma_{23}}}y_3 = \\varepsilon_2 \\\\\n",
        "  {\\color{blue} {\\beta_{31}}}x_1 + {\\color{blue} {\\beta_{32}}}x_2 + {\\color{blue} {\\beta_{33}}}x_3 + {\\color{blue} {\\gamma_{31}}}y_1 + {\\color{blue} {\\gamma_{32}}}y_2 + {\\color{blue} {\\gamma_{33}}}y_3 = \\varepsilon_3 \\\\\n",
        "\\end{cases}$"
      ]
    },
    {
      "cell_type": "markdown",
      "source": [
        "more concisely:"
      ],
      "metadata": {
        "id": "a_-SzcZjI5Yk"
      }
    },
    {
      "cell_type": "markdown",
      "source": [
        "$(\\mathbf{B} + \\mathbf{I}) =\n",
        "\\begin{bmatrix}\n",
        "  {\\color{blue} {\\beta_{11}}} & {\\color{blue} {\\beta_{12}}} & {\\color{blue} {\\beta_{13}}} \\\\\n",
        "  {\\color{blue} {\\beta_{21}}} & {\\color{blue} {\\beta_{22}}} & {\\color{blue} {\\beta_{23}}} \\\\\n",
        "  {\\color{blue} {\\beta_{31}}} & {\\color{blue} {\\beta_{32}}} & {\\color{blue} {\\beta_{33}}}\n",
        "\\end{bmatrix},\n",
        "\\pmb{\\Gamma} = \n",
        "\\begin{bmatrix}\n",
        "  {\\color{blue} {\\gamma_{11}}} & {\\color{blue} {\\gamma_{12}}} & {\\color{blue} {\\gamma_{13}}} \\\\\n",
        "  {\\color{blue} {\\gamma_{21}}} & {\\color{blue} {\\gamma_{22}}} & {\\color{blue} {\\gamma_{23}}} \\\\\n",
        "  {\\color{blue} {\\gamma_{31}}} & {\\color{blue} {\\gamma_{32}}} & {\\color{blue} {\\gamma_{33}}}\n",
        "\\end{bmatrix}$"
      ],
      "metadata": {
        "id": "eLo1SRJaJ9P6"
      }
    },
    {
      "cell_type": "markdown",
      "source": [
        "If we constrain $(\\mathbf{B + I})$ and $\\pmb{\\Gamma}$ to follow the structure implied by the graph $\\mathcal{G}$, then we have:"
      ],
      "metadata": {
        "id": "BXzjXbcyLcD7"
      }
    },
    {
      "cell_type": "code",
      "source": [
        "# Compute the adjacency matrix.\n",
        "A = nx.adjacency_matrix(G).todense().astype(bool).astype(float)\n",
        "# Get the number of endogenous and exogenous variables.\n",
        "n = len(G.graph[\"V\"])\n",
        "m = len(G.graph[\"U\"])\n",
        "# Extract the direct effects of endogenous variables, i.e. (Beta != 0).\n",
        "B_0 = A[0:n, 0:n].copy()\n",
        "# Extract the variances-covariances of exogenous variables, i.e. (Gamma != 0).\n",
        "C_0 = A[n:, 0:n].T.copy()\n",
        "\n",
        "# Compute non-zero entries of Beta_0.\n",
        "k = int(np.sum(B_0))\n",
        "\n",
        "print(B_0)\n",
        "print(C_0)"
      ],
      "metadata": {
        "colab": {
          "base_uri": "https://localhost:8080/"
        },
        "id": "KyD4ObdbdIsv",
        "outputId": "27d8b5be-52a3-401b-db4a-898a58ac7f03"
      },
      "execution_count": null,
      "outputs": [
        {
          "output_type": "stream",
          "name": "stdout",
          "text": [
            "[[0. 1. 0.]\n",
            " [0. 0. 1.]\n",
            " [0. 0. 0.]]\n",
            "[[1. 0. 0.]\n",
            " [0. 1. 0.]\n",
            " [0. 1. 1.]]\n"
          ]
        }
      ]
    },
    {
      "cell_type": "markdown",
      "source": [
        "Hence, the only unknown parameters are:"
      ],
      "metadata": {
        "id": "NB8tN3HdLpTt"
      }
    },
    {
      "cell_type": "markdown",
      "source": [
        "$(\\mathbf{B} + \\mathbf{I}) =\n",
        "\\begin{bmatrix}\n",
        "  1 & {\\color{blue} {\\beta_{12}}} & 0 \\\\\n",
        "  0 & 1 & {\\color{blue} {\\beta_{23}}} \\\\\n",
        "  0 & 0 & 1\n",
        "\\end{bmatrix},\n",
        "\\pmb{\\Gamma} = \n",
        "\\begin{bmatrix}\n",
        "  {\\color{blue} {\\gamma_{11}}} & 0 & 0 \\\\\n",
        "  0 & {\\color{blue} {\\gamma_{22}}} & 0 \\\\\n",
        "  0 & {\\color{blue} {\\gamma_{32}}} & {\\color{blue} {\\gamma_{33}}}\n",
        "\\end{bmatrix}$"
      ],
      "metadata": {
        "id": "5IshbFoJLu-V"
      }
    },
    {
      "cell_type": "markdown",
      "source": [
        "which can be represented as a **row vector** of unknown parameters:"
      ],
      "metadata": {
        "id": "c0hlXat4MPlw"
      }
    },
    {
      "cell_type": "markdown",
      "source": [
        "$\\theta =\n",
        "\\left[\n",
        "\\begin{array}{cc|cccc}\n",
        "  {\\color{blue} {\\beta_{12}}} &\n",
        "  {\\color{blue} {\\beta_{23}}} & \n",
        "  {\\color{blue} {\\gamma_{11}}} &\n",
        "  {\\color{blue} {\\gamma_{22}}} &\n",
        "  {\\color{blue} {\\gamma_{32}}} &\n",
        "  {\\color{blue} {\\gamma_{33}}}\n",
        "\\end{array}\n",
        "\\right]$"
      ],
      "metadata": {
        "id": "D1ICCgV7MVE4"
      }
    },
    {
      "cell_type": "markdown",
      "source": [
        "Define the **model implied** covariance matrix $\\pmb{\\Sigma}(\\hat{\\theta})$ given the estimated parameters $\\hat{\\theta}$:"
      ],
      "metadata": {
        "id": "omm50lSLnbfM"
      }
    },
    {
      "cell_type": "markdown",
      "source": [
        "$\\pmb{\\Sigma}(\\hat{\\theta}) = (\\mathbf{I} - \\mathbf{B}(\\hat{\\theta}))^{-1}\n",
        "\\pmb{\\Psi}(\\hat{\\theta})\n",
        "(\\mathbf{I} - \\mathbf{B}(\\hat{\\theta}))^{-1T}$"
      ],
      "metadata": {
        "id": "7ovm74_6e--_"
      }
    },
    {
      "cell_type": "markdown",
      "source": [
        "Computing $\\mathbf{B}(\\hat{\\theta})$ and $\\pmb{\\Gamma}(\\hat{\\theta})$ only require to **assign** the estimated parameters $\\hat{\\theta}$ to non-zero entries:"
      ],
      "metadata": {
        "id": "3zemx-jU6CFh"
      }
    },
    {
      "cell_type": "code",
      "source": [
        "def assign(X: np.ndarray, x: np.ndarray) -> np.ndarray:\n",
        "    # Make a copy of X.\n",
        "    X = X.copy()\n",
        "    # Get non-zero indices.\n",
        "    i = np.ravel(X).nonzero()[0]\n",
        "    # Assign non-zero values.\n",
        "    X.flat[i] = x\n",
        "    \n",
        "    return X"
      ],
      "metadata": {
        "id": "gXBu_6I96Jyp"
      },
      "execution_count": null,
      "outputs": []
    },
    {
      "cell_type": "markdown",
      "source": [
        "For example:"
      ],
      "metadata": {
        "id": "LxT6JANb6cu7"
      }
    },
    {
      "cell_type": "code",
      "source": [
        "# Solution for the above system.\n",
        "theta_hat = np.array([2., 3., 1., 1., 2., 1.])\n",
        "\n",
        "print(assign(B_0, theta_hat[:k]))\n",
        "print(assign(C_0, theta_hat[k:]))"
      ],
      "metadata": {
        "colab": {
          "base_uri": "https://localhost:8080/"
        },
        "id": "YxabnMcz6eTj",
        "outputId": "075f3bc0-b688-45a9-9bbe-d4e5ba19bc0b"
      },
      "execution_count": null,
      "outputs": [
        {
          "output_type": "stream",
          "name": "stdout",
          "text": [
            "[[0. 2. 0.]\n",
            " [0. 0. 3.]\n",
            " [0. 0. 0.]]\n",
            "[[1. 0. 0.]\n",
            " [0. 1. 0.]\n",
            " [0. 2. 1.]]\n"
          ]
        }
      ]
    },
    {
      "cell_type": "markdown",
      "source": [
        "Compute the covariance matrix $\\pmb{\\Sigma}(\\hat{\\theta})$ given the estimated parameters $\\hat{\\theta}$:"
      ],
      "metadata": {
        "id": "4pghXlXsQrOt"
      }
    },
    {
      "cell_type": "code",
      "source": [
        "def Sigma(theta: np.ndarray) -> np.ndarray:\n",
        "    # Assign estimated parameters theta to B.\n",
        "    B = assign(B_0, theta[:k])\n",
        "    # Allocate the identity matrix.\n",
        "    I = np.eye(*B.shape)\n",
        "    # Compute the scale.\n",
        "    IB = np.linalg.inv(I - B)\n",
        "\n",
        "    # Assign estimated parameters theta to Gamma.\n",
        "    C = assign(C_0, theta[k:])\n",
        "    # Compute the variances and covariances of the exogenous variables.\n",
        "    Psi = C + C.T - np.eye(*C.shape) * C\n",
        "\n",
        "    # Enforce positivity.\n",
        "    np.fill_diagonal(Psi, np.exp(np.diagonal(Psi)))\n",
        "\n",
        "    # Compute the *model implied* covariance matrix.\n",
        "    return IB @ Psi @ IB.T"
      ],
      "metadata": {
        "id": "BbLAng83s2Po"
      },
      "execution_count": null,
      "outputs": []
    },
    {
      "cell_type": "markdown",
      "source": [
        "Compute the observed covarianve matrix $\\mathbf{S}$ given the data set $\\mathbf{D}$:"
      ],
      "metadata": {
        "id": "9WgW3YgbgasU"
      }
    },
    {
      "cell_type": "code",
      "source": [
        "# Compute the covariance matrix.\n",
        "S = np.cov(D.to_numpy().T)\n",
        "\n",
        "print(S)"
      ],
      "metadata": {
        "colab": {
          "base_uri": "https://localhost:8080/"
        },
        "id": "pMwTB4nhd3E8",
        "outputId": "b3c43042-ea1b-4b9f-aaba-84d09fd4fa6e"
      },
      "execution_count": null,
      "outputs": [
        {
          "output_type": "stream",
          "name": "stdout",
          "text": [
            "[[88.94187022 43.97595814  9.98538505]\n",
            " [43.97595814 21.99524571  4.95808053]\n",
            " [ 9.98538505  4.95808053  1.25641161]]\n"
          ]
        }
      ]
    },
    {
      "cell_type": "markdown",
      "source": [
        "Define a *loss function* between the observed covariance matrix $\\mathbf{S}$ and the model implied covariance matrix $\\pmb{\\Sigma}(\\hat{\\theta})$:"
      ],
      "metadata": {
        "id": "2v6M7Pp7mmcR"
      }
    },
    {
      "cell_type": "markdown",
      "source": [
        "$\\mathcal{L}(\\mathbf{S}, \\pmb{\\Sigma}(\\hat{\\theta})) = tr(\\mathbf{S}\\pmb{\\Sigma}(\\hat{\\theta})^{-1}) + \\ln|\\pmb{\\Sigma}(\\hat{\\theta})| - \\ln|\\mathbf{S}| - n$"
      ],
      "metadata": {
        "id": "Ju4MRsMjfl0Z"
      }
    },
    {
      "cell_type": "code",
      "source": [
        "# Define loss function.\n",
        "def loss(theta: np.ndarray) -> float:\n",
        "    # Compute Sigma given theta parameters.\n",
        "    Sigma_t = Sigma(theta)\n",
        "    # Evaluate loss function.\n",
        "    return np.trace(S @ np.linalg.inv(Sigma_t)) + np.log(np.linalg.det(Sigma_t)) - np.log(np.linalg.det(S)) - n"
      ],
      "metadata": {
        "id": "Bb5BqHR1d4Oj"
      },
      "execution_count": null,
      "outputs": []
    },
    {
      "cell_type": "markdown",
      "source": [
        "Minimize the loss function $\\mathcal{L}$ w.r.t. $\\mathbf{S}$ and $\\pmb{\\Sigma}(\\hat{\\theta})$:"
      ],
      "metadata": {
        "id": "tVHzbBOhvA1P"
      }
    },
    {
      "cell_type": "code",
      "source": [
        "# Initialize first solution.\n",
        "theta_0 = np.zeros(int(np.sum(A)))\n",
        "# Minimize loss function.\n",
        "optimal = minimize(loss, theta_0, tol = 1e-6)\n",
        "# Get the solution *x*\n",
        "theta = optimal.x\n",
        "# Assign estimated coefficients theta to Beta and Gamma.\n",
        "B = assign(B_0, theta[:k])\n",
        "C = assign(C_0, theta[k:])\n",
        "\n",
        "print(B)\n",
        "print(C)"
      ],
      "metadata": {
        "colab": {
          "base_uri": "https://localhost:8080/"
        },
        "id": "Q4tZFwRK7jmg",
        "outputId": "5136820c-6f1e-4f26-fab7-26a1419232ae"
      },
      "execution_count": null,
      "outputs": [
        {
          "output_type": "stream",
          "name": "stdout",
          "text": [
            "[[0.         2.02317161 0.        ]\n",
            " [0.         0.         3.41047321]\n",
            " [0.         0.         0.        ]]\n",
            "[[-0.45287682  0.          0.        ]\n",
            " [ 0.          0.91354235  0.        ]\n",
            " [ 0.          2.42317759 -0.11827716]]\n"
          ]
        }
      ]
    },
    {
      "cell_type": "markdown",
      "metadata": {
        "id": "QrUMvNAHrgxi"
      },
      "source": [
        "### Estimating with an SCM"
      ]
    },
    {
      "cell_type": "markdown",
      "metadata": {
        "id": "3tfE0HqFrlFe"
      },
      "source": [
        "Suppose we are given a SCM $\\mathcal{M}$ and an estimand $\\tau$. How do we estimate $\\tau$ from $\\mathcal{M}$ ?"
      ]
    },
    {
      "cell_type": "markdown",
      "metadata": {
        "id": "e-EZ_TsKrk0U"
      },
      "source": [
        "The total effect $\\tau = \\mathbb{E}\\left[ Y(1) - Y(0) \\right]$ is computed as the sum of the effect of each directed path $\\pi$ from $X$ to $Y$, where the effect of each directed path $\\pi$ is obtained by multiplying each direct effect along such path:"
      ]
    },
    {
      "cell_type": "markdown",
      "source": [
        "$\\tau = \\mathbb{E}\\left[ Y(1) - Y(0) \\right] = \\sum_{\\pi \\in \\Pi(X, Y)}\\prod_{(Z_i \\rightarrow Z_j) \\in \\pi} \\mathbf{B}[Z_i, Z_j]$"
      ],
      "metadata": {
        "id": "v1NmWTvVNfp5"
      }
    },
    {
      "cell_type": "markdown",
      "source": [
        "hence, leveraging the weighted graph representation:"
      ],
      "metadata": {
        "id": "MLuu89A5ODRJ"
      }
    },
    {
      "cell_type": "code",
      "source": [
        "def total_effect(G: nx.DiGraph, X: str, Y: str) -> float:\n",
        "    # Initialize the total effect.\n",
        "    tau = 0\n",
        "    # Iterate over the paths.\n",
        "    for path in sorted(nx.all_simple_edge_paths(G, X, Y)):\n",
        "        # Initialize the path effect.\n",
        "        tau_pi = 1\n",
        "        # Iterate over the edges.\n",
        "        for (i, j) in path:\n",
        "            # Reduce the path effect.\n",
        "            tau_pi = tau_pi * G[i][j][\"weight\"]\n",
        "        # Accumulate the effect.\n",
        "        tau = tau + tau_pi\n",
        "    # Return the total effect.\n",
        "    return tau"
      ],
      "metadata": {
        "id": "QwhBQSIROEww"
      },
      "execution_count": null,
      "outputs": []
    },
    {
      "cell_type": "markdown",
      "source": [
        "For example, compute the effect from $X_1$ to $X_3$:"
      ],
      "metadata": {
        "id": "o3CujIetPNzb"
      }
    },
    {
      "cell_type": "code",
      "source": [
        "total_effect(G, \"$x_1$\", \"$x_3$\")"
      ],
      "metadata": {
        "colab": {
          "base_uri": "https://localhost:8080/"
        },
        "id": "s6Ew0T13PIXf",
        "outputId": "19cfad28-b743-4d55-a06c-2fe475d03673"
      },
      "execution_count": null,
      "outputs": [
        {
          "output_type": "execute_result",
          "data": {
            "text/plain": [
              "6.0"
            ]
          },
          "metadata": {},
          "execution_count": 20
        }
      ]
    }
  ],
  "metadata": {
    "colab": {
      "provenance": [],
      "collapsed_sections": []
    },
    "kernelspec": {
      "display_name": "Python 3 (ipykernel)",
      "language": "python",
      "name": "python3"
    },
    "language_info": {
      "codemirror_mode": {
        "name": "ipython",
        "version": 3
      },
      "file_extension": ".py",
      "mimetype": "text/x-python",
      "name": "python",
      "nbconvert_exporter": "python",
      "pygments_lexer": "ipython3",
      "version": "3.10.6"
    }
  },
  "nbformat": 4,
  "nbformat_minor": 0
}
