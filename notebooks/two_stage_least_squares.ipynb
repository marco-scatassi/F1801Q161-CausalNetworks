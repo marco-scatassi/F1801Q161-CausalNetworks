{
 "cells": [
  {
   "cell_type": "code",
   "execution_count": 1,
   "metadata": {
    "id": "ogexyzp3EU7b"
   },
   "outputs": [],
   "source": [
    "%%capture\n",
    "!pip install numpy pandas statsmodels networkx"
   ]
  },
  {
   "cell_type": "code",
   "execution_count": 2,
   "metadata": {
    "id": "b59ow44xFFbI"
   },
   "outputs": [],
   "source": [
    "import numpy as np\n",
    "import pandas as pd\n",
    "import statsmodels.api as sm\n",
    "import networkx as nx"
   ]
  },
  {
   "cell_type": "markdown",
   "metadata": {
    "id": "xZuR7Dc5FGFF"
   },
   "source": [
    "# Instrumental Variables"
   ]
  },
  {
   "cell_type": "markdown",
   "metadata": {
    "id": "OEqpT2LpFZgC"
   },
   "source": [
    "## Abstract"
   ]
  },
  {
   "cell_type": "markdown",
   "metadata": {
    "id": "5R8PlsDXFbbd"
   },
   "source": [
    "An experimental approach is possible using observational data, provided there exists an instrument $Z$ that has the property that changes in $Z$ are associated with changes in $X$ but do not led to change in $Y$, aside from the indirect path via $X$."
   ]
  },
  {
   "cell_type": "markdown",
   "metadata": {},
   "source": [
    "This leads to the following path diagram:"
   ]
  },
  {
   "cell_type": "code",
   "execution_count": 3,
   "metadata": {},
   "outputs": [
    {
     "data": {
      "image/png": "[encoded data removed]",
      "text/plain": [
       "<Figure size 432x288 with 1 Axes>"
      ]
     },
     "metadata": {},
     "output_type": "display_data"
    }
   ],
   "source": [
    "G = nx.DiGraph()\n",
    "E_U = [(\"$\\\\epsilon$\", \"X\"), (\"$\\\\epsilon$\", \"Y\"), (\"$\\\\nu$\", \"Z\")]\n",
    "E_V = [(\"Z\", \"X\"), (\"X\", \"Y\")]\n",
    "G.add_edges_from(E_U + E_V)   # Add exogenous and endogenous edges to graph\n",
    "pos = {'$\\\\epsilon$': (11.5, 5), 'X': (7.5, 0), 'Y': (15, 0), '$\\\\nu$': (0, 5), 'Z': (0, 0)}\n",
    "_ = nx.draw_networkx_labels(G, pos)   # Plot node labels\n",
    "sty = {\"min_source_margin\": 12, \"min_target_margin\": 12}         # Set min distance from labels\n",
    "_ = nx.draw_networkx_edges(G, pos, E_U, style=\"dashed\", **sty)   # Plot dashed exogenous edges\n",
    "_ = nx.draw_networkx_edges(G, pos, E_V, style=\"solid\", **sty)    # Plot solid endogenous edges"
   ]
  },
  {
   "cell_type": "code",
   "execution_count": 4,
   "metadata": {},
   "outputs": [],
   "source": [
    "def sample_data(size: int = int(1e6), seed: int = 31):\n",
    "    # Set random generator seed for results reproducibility\n",
    "    np.random.seed(seed)\n",
    "    # Sample nu from normal distribution\n",
    "    nu = np.random.normal(0, 1, size)\n",
    "    # Compute Z from nu\n",
    "    Z = 2 * nu\n",
    "    # Sample epsilon from normal distribution\n",
    "    epsilon = np.random.normal(0, 9, size)\n",
    "    # Sample epsilon from normal distribution\n",
    "    X = 3 * Z + epsilon\n",
    "    # Compute Y given X and epsilon\n",
    "    Y = 5 * X + epsilon     # The true ACE is 5\n",
    "    # Create a dataframe from sampled variables\n",
    "    return pd.DataFrame({\"X\": X, \"Y\": Y, \"Z\": Z})"
   ]
  },
  {
   "cell_type": "code",
   "execution_count": 5,
   "metadata": {},
   "outputs": [
    {
     "data": {
      "text/html": [
       "<div>\n",
       "<style scoped>\n",
       "    .dataframe tbody tr th:only-of-type {\n",
       "        vertical-align: middle;\n",
       "    }\n",
       "\n",
       "    .dataframe tbody tr th {\n",
       "        vertical-align: top;\n",
       "    }\n",
       "\n",
       "    .dataframe thead th {\n",
       "        text-align: right;\n",
       "    }\n",
       "</style>\n",
       "<table border=\"1\" class=\"dataframe\">\n",
       "  <thead>\n",
       "    <tr style=\"text-align: right;\">\n",
       "      <th></th>\n",
       "      <th>X</th>\n",
       "      <th>Y</th>\n",
       "      <th>Z</th>\n",
       "    </tr>\n",
       "  </thead>\n",
       "  <tbody>\n",
       "    <tr>\n",
       "      <th>count</th>\n",
       "      <td>1000000.000000</td>\n",
       "      <td>1000000.000000</td>\n",
       "      <td>1000000.000000</td>\n",
       "    </tr>\n",
       "    <tr>\n",
       "      <th>mean</th>\n",
       "      <td>-0.015275</td>\n",
       "      <td>-0.093012</td>\n",
       "      <td>0.000454</td>\n",
       "    </tr>\n",
       "    <tr>\n",
       "      <th>std</th>\n",
       "      <td>10.816713</td>\n",
       "      <td>61.779661</td>\n",
       "      <td>1.997407</td>\n",
       "    </tr>\n",
       "    <tr>\n",
       "      <th>min</th>\n",
       "      <td>-49.894257</td>\n",
       "      <td>-276.612154</td>\n",
       "      <td>-9.614233</td>\n",
       "    </tr>\n",
       "    <tr>\n",
       "      <th>25%</th>\n",
       "      <td>-7.312498</td>\n",
       "      <td>-41.753417</td>\n",
       "      <td>-1.348919</td>\n",
       "    </tr>\n",
       "    <tr>\n",
       "      <th>50%</th>\n",
       "      <td>-0.007989</td>\n",
       "      <td>-0.084033</td>\n",
       "      <td>0.003694</td>\n",
       "    </tr>\n",
       "    <tr>\n",
       "      <th>75%</th>\n",
       "      <td>7.280685</td>\n",
       "      <td>41.584162</td>\n",
       "      <td>1.349117</td>\n",
       "    </tr>\n",
       "    <tr>\n",
       "      <th>max</th>\n",
       "      <td>50.417261</td>\n",
       "      <td>281.971526</td>\n",
       "      <td>9.086927</td>\n",
       "    </tr>\n",
       "  </tbody>\n",
       "</table>\n",
       "</div>"
      ],
      "text/plain": [
       "                    X               Y               Z\n",
       "count  1000000.000000  1000000.000000  1000000.000000\n",
       "mean        -0.015275       -0.093012        0.000454\n",
       "std         10.816713       61.779661        1.997407\n",
       "min        -49.894257     -276.612154       -9.614233\n",
       "25%         -7.312498      -41.753417       -1.348919\n",
       "50%         -0.007989       -0.084033        0.003694\n",
       "75%          7.280685       41.584162        1.349117\n",
       "max         50.417261      281.971526        9.086927"
      ]
     },
     "execution_count": 5,
     "metadata": {},
     "output_type": "execute_result"
    }
   ],
   "source": [
    "D = sample_data()\n",
    "D.describe()"
   ]
  },
  {
   "cell_type": "code",
   "execution_count": 6,
   "metadata": {},
   "outputs": [],
   "source": [
    "# Cast to Numpy arrays.\n",
    "X = np.atleast_2d(D[\"X\"].to_numpy()).T\n",
    "Y = D[\"Y\"].to_numpy().T\n",
    "Z = np.atleast_2d(D[\"Z\"].to_numpy()).T"
   ]
  },
  {
   "cell_type": "markdown",
   "metadata": {
    "id": "2R4vLJG6Fbt0"
   },
   "source": [
    "## Introduction"
   ]
  },
  {
   "cell_type": "markdown",
   "metadata": {},
   "source": [
    "### Instrumental Variables Estimator (IV)"
   ]
  },
  {
   "cell_type": "markdown",
   "metadata": {
    "id": "pRNqoVweFd83"
   },
   "source": [
    "Recall that a linear model can be expressed as:"
   ]
  },
  {
   "cell_type": "markdown",
   "metadata": {
    "id": "p95LS-9OLU62"
   },
   "source": [
    "$\\mathbf{y} = \\beta_0 \\cdot \\mathbf{1} + \\beta_1 \\cdot \\mathbf{x_1} + \\cdots + \\beta_n \\cdot \\mathbf{x_n} + \\pmb{\\varepsilon}$"
   ]
  },
  {
   "cell_type": "markdown",
   "metadata": {
    "id": "p1JRBWWSL1je"
   },
   "source": [
    "where $\\mathbf{1}, \\mathbf{x}, \\mathbf{y}$ and $\\pmb{\\varepsilon}$ are ($m \\times 1$) vectors, i.e. *column* vectors, or in matrix form:"
   ]
  },
  {
   "cell_type": "markdown",
   "metadata": {
    "id": "DAQ8b2upMUaM"
   },
   "source": [
    "$\\mathbf{y} = \\mathbf{X}\\pmb{\\beta} + \\pmb{\\varepsilon}$"
   ]
  },
  {
   "cell_type": "markdown",
   "metadata": {},
   "source": [
    "The objective is to estimate the parameters $\\pmb{\\beta}$ of the linear model (i.e. fit the linear regression estimator)."
   ]
  },
  {
   "cell_type": "markdown",
   "metadata": {},
   "source": [
    "To do so, one might be tempted to premultiply by ${\\color{blue}{\\mathbf{X}^{-1}}}$ to remove the ${\\color{red}{\\mathbf{X}}}$ term, since $\\mathbf{A}\\mathbf{A}^{-1} = \\mathbf{I}$:"
   ]
  },
  {
   "cell_type": "markdown",
   "metadata": {},
   "source": [
    "${\\color{blue}{\\mathbf{X}^{-1}}}\\mathbf{y} = {\\color{blue}{\\mathbf{X}^{-1}}}{\\color{red}{\\mathbf{X}}}\\pmb{\\beta} + {\\color{blue}{\\mathbf{X}^{-1}}}\\pmb{\\varepsilon}$"
   ]
  },
  {
   "cell_type": "markdown",
   "metadata": {},
   "source": [
    "Then, to allow computation given the observed data, apply the expected operator $\\mathbb{E}$:"
   ]
  },
  {
   "cell_type": "markdown",
   "metadata": {},
   "source": [
    "$\\mathbb{E}[\\mathbf{X}^{-1}\\mathbf{y}] = \\mathbb{E}[\\pmb{\\beta} + \\mathbf{X}^{-1}\\pmb{\\varepsilon}]$"
   ]
  },
  {
   "cell_type": "markdown",
   "metadata": {},
   "source": [
    "Given linearity of expectation:"
   ]
  },
  {
   "cell_type": "markdown",
   "metadata": {},
   "source": [
    "$\\mathbf{X}^{-1}\\mathbf{y} = \\pmb{\\beta} + {\\color{red}{\\mathbb{E}[\\mathbf{X}^{-1}\\pmb{\\varepsilon}]}}$"
   ]
  },
  {
   "cell_type": "markdown",
   "metadata": {},
   "source": [
    "But here is the catch: we do not observe $\\pmb{\\varepsilon}$ by its very definition of *noise*, therefore we cannot compute ${\\color{red}{\\mathbb{E}[\\mathbf{X}^{-1}\\pmb{\\varepsilon}]}}$."
   ]
  },
  {
   "cell_type": "markdown",
   "metadata": {},
   "source": [
    "If $\\mathbf{X}$ were indpendent from $\\pmb{\\varepsilon}$ then expectation would have been zero, but in this scenario we know that $\\mathbf{X}$ is *confounded* by $\\pmb{\\varepsilon}$."
   ]
  },
  {
   "cell_type": "markdown",
   "metadata": {},
   "source": [
    "We need to leverage the definition of *instrumental variables* to isolate $\\pmb{\\beta}$ effectively."
   ]
  },
  {
   "cell_type": "markdown",
   "metadata": {},
   "source": [
    "We construct a matrix $\\mathbf{Z}$ that is an exact copy of $\\mathbf{X}$ *except* we replace each confounded variable $X_i$ with its instrument $Z_i$."
   ]
  },
  {
   "cell_type": "markdown",
   "metadata": {},
   "source": [
    "Then, restarting from the beginning, premultiply by ${\\color{blue}{\\mathbf{Z}'}}$ each term:"
   ]
  },
  {
   "cell_type": "markdown",
   "metadata": {
    "id": "HBily4E4OEky"
   },
   "source": [
    "${\\color{blue}{\\mathbf{Z}'}}\\mathbf{y} = {\\color{blue}{\\mathbf{Z}'}}\\mathbf{X}\\pmb{\\beta} + {\\color{blue}{\\mathbf{Z}'}}\\pmb{\\varepsilon}$"
   ]
  },
  {
   "cell_type": "markdown",
   "metadata": {},
   "source": [
    "Observe that by multipling $\\mathbf{X}$ by $\\mathbf{Z}^{-1}$ the resulting $\\mathbf{Z}'\\mathbf{X}$ is square, which is not true if multiplied by $\\mathbf{Z}$. This will be important later on."
   ]
  },
  {
   "cell_type": "markdown",
   "metadata": {},
   "source": [
    "Apply the expected operator $\\mathbb{E}$:"
   ]
  },
  {
   "cell_type": "markdown",
   "metadata": {
    "id": "C_GvL4g_OMVN"
   },
   "source": [
    "$\\mathbf{Z}'\\mathbf{y} = \\mathbf{Z}'\\mathbf{X}\\pmb{\\beta} + {\\color{red}{\\mathbb{E}[\\mathbf{Z}'\\pmb{\\varepsilon}]}}$"
   ]
  },
  {
   "cell_type": "markdown",
   "metadata": {
    "id": "5AMXOMCOPxBL"
   },
   "source": [
    "Since $\\mathbf{Z}$ is not correlated with $\\pmb{\\varepsilon}$ by definition of instrumental variable, ${\\color{red}{\\mathbb{E}[\\mathbf{Z}'\\pmb{\\varepsilon}]}}$ is zero, therefore:"
   ]
  },
  {
   "cell_type": "markdown",
   "metadata": {
    "id": "1EylMnhTOaUq"
   },
   "source": [
    "$\\mathbf{Z}'\\mathbf{y} = \\mathbf{Z}'\\mathbf{X}\\pmb{\\beta}$"
   ]
  },
  {
   "cell_type": "markdown",
   "metadata": {},
   "source": [
    "Since ${\\color{red}{\\mathbf{Z}'\\mathbf{X}}}$ is square and the objective is to isolate $\\pmb{\\beta}$, premultiply by ${\\color{blue}{(\\mathbf{Z}'\\mathbf{X})^{-1}}}$ to get rid of ${\\color{red}{\\mathbf{Z}'\\mathbf{X}}}$:"
   ]
  },
  {
   "cell_type": "markdown",
   "metadata": {
    "id": "IK69bcOqO0cL"
   },
   "source": [
    "${\\color{blue}{(\\mathbf{Z}'\\mathbf{X})^{-1}}}\\mathbf{Z}'\\mathbf{y} = {\\color{blue}{(\\mathbf{Z}'\\mathbf{X})^{-1}}}{\\color{red}{\\mathbf{Z}'\\mathbf{X}}}\\pmb{\\beta}$"
   ]
  },
  {
   "cell_type": "markdown",
   "metadata": {},
   "source": [
    "By definition $\\mathbf{A}\\mathbf{A}^{-1} = \\mathbf{I}$, hence, symmetrically, ${\\color{blue}{(\\mathbf{Z}'\\mathbf{X})^{-1}}}{\\color{red}{\\mathbf{Z}'\\mathbf{X}}} = \\mathbf{I}$:"
   ]
  },
  {
   "cell_type": "markdown",
   "metadata": {
    "id": "YYK7qBo-PA_0"
   },
   "source": [
    "$(\\mathbf{Z}'\\mathbf{X})^{-1}\\mathbf{Z}'\\mathbf{y} = \\pmb{\\beta}$"
   ]
  },
  {
   "cell_type": "markdown",
   "metadata": {
    "id": "zqQ2A5cmPZkK"
   },
   "source": [
    "By replacing the variables with their observations we obtain an estimate of $\\pmb{\\beta}$:"
   ]
  },
  {
   "cell_type": "markdown",
   "metadata": {
    "id": "So5fk0GsPPR1"
   },
   "source": [
    "$\\hat{\\pmb{\\beta}}_{IV} = (\\mathbf{Z}'\\mathbf{X})^{-1}\\mathbf{Z}'\\mathbf{y}$"
   ]
  },
  {
   "cell_type": "markdown",
   "metadata": {},
   "source": [
    "### Two-Stage Least Squares Estimator (2SLS)"
   ]
  },
  {
   "cell_type": "markdown",
   "metadata": {},
   "source": [
    "As before, the regression formula for $\\mathbf{X}$ is expressed directly in function of $\\mathbf{Z}$:"
   ]
  },
  {
   "cell_type": "markdown",
   "metadata": {},
   "source": [
    "$\\mathbf{X} = \\mathbf{Z} \\pmb{\\alpha} + \\pmb{\\nu}$"
   ]
  },
  {
   "cell_type": "markdown",
   "metadata": {},
   "source": [
    "The estimate of $\\hat{\\pmb{\\alpha}}$ is derived from the above formula:"
   ]
  },
  {
   "cell_type": "markdown",
   "metadata": {},
   "source": [
    "$\\hat{\\pmb{\\alpha}} = (\\mathbf{Z}'\\mathbf{Z})^{-1}\\mathbf{Z}'\\mathbf{X}$"
   ]
  },
  {
   "cell_type": "markdown",
   "metadata": {},
   "source": [
    "Using the estimated $\\hat{\\pmb{\\alpha}}$, compute the estimate of $\\hat{\\mathbf{X}}$:"
   ]
  },
  {
   "cell_type": "markdown",
   "metadata": {},
   "source": [
    "$\\hat{\\mathbf{X}} = \\mathbf{Z}\\hat{\\pmb{\\alpha}}$"
   ]
  },
  {
   "cell_type": "markdown",
   "metadata": {
    "id": "So5fk0GsPPR1"
   },
   "source": [
    "Finally, the second stage is obtained by plugging in $\\hat{\\mathbf{X}}$ into the IV estimator $\\hat{\\pmb{\\beta}}_{IV} = (\\mathbf{Z}'\\mathbf{X})^{-1}\\mathbf{Z}'\\mathbf{y}$, as:"
   ]
  },
  {
   "cell_type": "markdown",
   "metadata": {},
   "source": [
    "$\\hat{\\pmb{\\beta}}_{2SLS} = (\\hat{\\mathbf{X}}'\\mathbf{X})^{-1}\\hat{\\mathbf{X}}'\\mathbf{y}$"
   ]
  },
  {
   "cell_type": "markdown",
   "metadata": {
    "id": "hAGdqrDtFjUK"
   },
   "source": [
    "## Implementation"
   ]
  },
  {
   "cell_type": "markdown",
   "metadata": {},
   "source": [
    "We can implement $\\hat{\\pmb{\\beta}}_{IV}$ and $\\hat{\\pmb{\\beta}}_{2SLS}$ directly from the equations above:"
   ]
  },
  {
   "cell_type": "code",
   "execution_count": 7,
   "metadata": {
    "id": "rjfAK_bvFlrP"
   },
   "outputs": [],
   "source": [
    "def instrumental_variables(\n",
    "    X: np.ndarray,\n",
    "    Y: np.ndarray,\n",
    "    Z: np.ndarray\n",
    ") -> float:\n",
    "    return np.linalg.inv(Z.T @ X) @ Z.T @ Y"
   ]
  },
  {
   "cell_type": "code",
   "execution_count": 8,
   "metadata": {
    "id": "CWdp_61pHjng"
   },
   "outputs": [],
   "source": [
    "def two_stage_least_squares(\n",
    "    X: np.ndarray,\n",
    "    Y: np.ndarray,\n",
    "    Z: np.ndarray\n",
    ") -> float:\n",
    "    # First stage.\n",
    "    alpha = np.linalg.inv(Z.T @ Z) @ Z.T @ X\n",
    "    X_hat = Z @ alpha\n",
    "    # Second stage.\n",
    "    return np.linalg.inv(X_hat.T @ X) @ X_hat.T @ Y"
   ]
  },
  {
   "cell_type": "markdown",
   "metadata": {},
   "source": [
    "## Testing"
   ]
  },
  {
   "cell_type": "code",
   "execution_count": 9,
   "metadata": {},
   "outputs": [],
   "source": [
    "true_ace = 5.0"
   ]
  },
  {
   "cell_type": "code",
   "execution_count": 10,
   "metadata": {},
   "outputs": [
    {
     "name": "stdout",
     "output_type": "stream",
     "text": [
      "Estimated ACE: 5.69, Relative Error: 13.86%\n"
     ]
    }
   ],
   "source": [
    "pred_ace = float(sm.OLS(Y, X).fit().params)\n",
    "print(f\"Estimated ACE: {pred_ace:.2f}, Relative Error: {(abs((pred_ace - true_ace) / true_ace) * 100):.2f}%\")"
   ]
  },
  {
   "cell_type": "code",
   "execution_count": 11,
   "metadata": {},
   "outputs": [
    {
     "name": "stdout",
     "output_type": "stream",
     "text": [
      "Estimated ACE: 5.00, Relative Error: 0.02%\n"
     ]
    }
   ],
   "source": [
    "pred_ace = float(instrumental_variables(X, Y, Z))\n",
    "print(f\"Estimated ACE: {pred_ace:.2f}, Relative Error: {(abs((pred_ace - true_ace) / true_ace) * 100):.2f}%\")"
   ]
  },
  {
   "cell_type": "code",
   "execution_count": 12,
   "metadata": {},
   "outputs": [
    {
     "name": "stdout",
     "output_type": "stream",
     "text": [
      "Estimated ACE: 5.00, Relative Error: 0.02%\n"
     ]
    }
   ],
   "source": [
    "pred_ace = float(two_stage_least_squares(X, Y, Z))\n",
    "print(f\"Estimated ACE: {pred_ace:.2f}, Relative Error: {(abs((pred_ace - true_ace) / true_ace) * 100):.2f}%\")"
   ]
  }
 ],
 "metadata": {
  "colab": {
   "provenance": []
  },
  "kernelspec": {
   "display_name": "Python 3 (ipykernel)",
   "language": "python",
   "name": "python3"
  },
  "language_info": {
   "codemirror_mode": {
    "name": "ipython",
    "version": 3
   },
   "file_extension": ".py",
   "mimetype": "text/x-python",
   "name": "python",
   "nbconvert_exporter": "python",
   "pygments_lexer": "ipython3",
   "version": "3.10.6"
  }
 },
 "nbformat": 4,
 "nbformat_minor": 1
}
